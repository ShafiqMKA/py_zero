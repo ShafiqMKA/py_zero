{
 "cells": [
  {
   "cell_type": "code",
   "execution_count": 1,
   "id": "191353cd-2f7d-4256-894f-d0a4746ec32e",
   "metadata": {},
   "outputs": [],
   "source": [
    "#Create a list, dictionary by generating random numbers\n"
   ]
  },
  {
   "cell_type": "code",
   "execution_count": 14,
   "id": "be8e6f4e-191e-437e-bc86-609dec862cda",
   "metadata": {},
   "outputs": [],
   "source": [
    "import random \n",
    "import pandas as pd\n",
    "import itertools\n"
   ]
  },
  {
   "cell_type": "code",
   "execution_count": 10,
   "id": "e446f582-ea51-479f-8caa-6abd529460a4",
   "metadata": {},
   "outputs": [
    {
     "name": "stdout",
     "output_type": "stream",
     "text": [
      "[148, 115, 106, 181, 102, 179, 178, 197, 161, 163, 173, 199, 181, 177, 198, 196, 101, 188, 126, 190]\n"
     ]
    }
   ],
   "source": [
    "sha = [random.randint(100,200) for _ in range(20)]\n",
    "print (sha)\n"
   ]
  },
  {
   "cell_type": "code",
   "execution_count": 7,
   "id": "27df1fe1-a9ea-4c95-b3fe-16ae044106ee",
   "metadata": {},
   "outputs": [
    {
     "name": "stdout",
     "output_type": "stream",
     "text": [
      "[124, 157, 193, 107, 109, 134, 187, 152, 107, 130, 165, 126, 104, 169, 119, 122, 176, 161, 133, 187]\n"
     ]
    }
   ],
   "source": [
    "#creating list which empty \n",
    "my_list1 = []\n",
    "#applying for loop with range to get specific number or locations \n",
    "#then the random number are coming between 100 and 200\n",
    "# and finally we append all the random numbers to empty lits\n",
    "sha = [random.randint(100,200) for _ in range(20)]\n",
    "\n",
    "for z in range (20):\n",
    "    moon = random.randint(100,200)\n",
    "    my_list1.append(moon)\n",
    "print (my_list1)\n",
    "\n"
   ]
  },
  {
   "cell_type": "code",
   "execution_count": 13,
   "id": "eb40cfee-d33d-44d7-bf79-b3481a9aa2d0",
   "metadata": {},
   "outputs": [
    {
     "data": {
      "text/plain": [
       "{'yoss': [124,\n",
       "  157,\n",
       "  193,\n",
       "  107,\n",
       "  109,\n",
       "  134,\n",
       "  187,\n",
       "  152,\n",
       "  107,\n",
       "  130,\n",
       "  165,\n",
       "  126,\n",
       "  104,\n",
       "  169,\n",
       "  119,\n",
       "  122,\n",
       "  176,\n",
       "  161,\n",
       "  133,\n",
       "  187]}"
      ]
     },
     "execution_count": 13,
     "metadata": {},
     "output_type": "execute_result"
    }
   ],
   "source": [
    "my_dictionary = {\"yoss\":my_list1}\n",
    "my_dictionary"
   ]
  },
  {
   "cell_type": "code",
   "execution_count": 18,
   "id": "0306e14e-c380-435d-8725-e94c26173d12",
   "metadata": {},
   "outputs": [
    {
     "data": {
      "text/html": [
       "<div>\n",
       "<style scoped>\n",
       "    .dataframe tbody tr th:only-of-type {\n",
       "        vertical-align: middle;\n",
       "    }\n",
       "\n",
       "    .dataframe tbody tr th {\n",
       "        vertical-align: top;\n",
       "    }\n",
       "\n",
       "    .dataframe thead th {\n",
       "        text-align: right;\n",
       "    }\n",
       "</style>\n",
       "<table border=\"1\" class=\"dataframe\">\n",
       "  <thead>\n",
       "    <tr style=\"text-align: right;\">\n",
       "      <th></th>\n",
       "      <th>0</th>\n",
       "    </tr>\n",
       "  </thead>\n",
       "  <tbody>\n",
       "    <tr>\n",
       "      <th>0</th>\n",
       "      <td>124</td>\n",
       "    </tr>\n",
       "    <tr>\n",
       "      <th>1</th>\n",
       "      <td>157</td>\n",
       "    </tr>\n",
       "    <tr>\n",
       "      <th>2</th>\n",
       "      <td>193</td>\n",
       "    </tr>\n",
       "    <tr>\n",
       "      <th>3</th>\n",
       "      <td>107</td>\n",
       "    </tr>\n",
       "    <tr>\n",
       "      <th>4</th>\n",
       "      <td>109</td>\n",
       "    </tr>\n",
       "    <tr>\n",
       "      <th>5</th>\n",
       "      <td>134</td>\n",
       "    </tr>\n",
       "    <tr>\n",
       "      <th>6</th>\n",
       "      <td>187</td>\n",
       "    </tr>\n",
       "    <tr>\n",
       "      <th>7</th>\n",
       "      <td>152</td>\n",
       "    </tr>\n",
       "    <tr>\n",
       "      <th>8</th>\n",
       "      <td>107</td>\n",
       "    </tr>\n",
       "    <tr>\n",
       "      <th>9</th>\n",
       "      <td>130</td>\n",
       "    </tr>\n",
       "    <tr>\n",
       "      <th>10</th>\n",
       "      <td>165</td>\n",
       "    </tr>\n",
       "    <tr>\n",
       "      <th>11</th>\n",
       "      <td>126</td>\n",
       "    </tr>\n",
       "    <tr>\n",
       "      <th>12</th>\n",
       "      <td>104</td>\n",
       "    </tr>\n",
       "    <tr>\n",
       "      <th>13</th>\n",
       "      <td>169</td>\n",
       "    </tr>\n",
       "    <tr>\n",
       "      <th>14</th>\n",
       "      <td>119</td>\n",
       "    </tr>\n",
       "    <tr>\n",
       "      <th>15</th>\n",
       "      <td>122</td>\n",
       "    </tr>\n",
       "    <tr>\n",
       "      <th>16</th>\n",
       "      <td>176</td>\n",
       "    </tr>\n",
       "    <tr>\n",
       "      <th>17</th>\n",
       "      <td>161</td>\n",
       "    </tr>\n",
       "    <tr>\n",
       "      <th>18</th>\n",
       "      <td>133</td>\n",
       "    </tr>\n",
       "    <tr>\n",
       "      <th>19</th>\n",
       "      <td>187</td>\n",
       "    </tr>\n",
       "  </tbody>\n",
       "</table>\n",
       "</div>"
      ],
      "text/plain": [
       "      0\n",
       "0   124\n",
       "1   157\n",
       "2   193\n",
       "3   107\n",
       "4   109\n",
       "5   134\n",
       "6   187\n",
       "7   152\n",
       "8   107\n",
       "9   130\n",
       "10  165\n",
       "11  126\n",
       "12  104\n",
       "13  169\n",
       "14  119\n",
       "15  122\n",
       "16  176\n",
       "17  161\n",
       "18  133\n",
       "19  187"
      ]
     },
     "execution_count": 18,
     "metadata": {},
     "output_type": "execute_result"
    }
   ],
   "source": [
    "#creating data frame from list\n",
    "data_frame_shafeeq = pd.DataFrame(my_list1)\n",
    "data_frame_shafeeq"
   ]
  },
  {
   "cell_type": "code",
   "execution_count": 28,
   "id": "158d41a5-cfc0-4ae5-ac03-64e9357fa767",
   "metadata": {},
   "outputs": [
    {
     "name": "stdout",
     "output_type": "stream",
     "text": [
      "0    124\n",
      "Name: 0, dtype: int64\n",
      "0    157\n",
      "Name: 1, dtype: int64\n",
      "0    193\n",
      "Name: 2, dtype: int64\n",
      "0    107\n",
      "Name: 3, dtype: int64\n",
      "0    109\n",
      "Name: 4, dtype: int64\n",
      "0    134\n",
      "Name: 5, dtype: int64\n",
      "0    187\n",
      "Name: 6, dtype: int64\n",
      "0    152\n",
      "Name: 7, dtype: int64\n",
      "0    107\n",
      "Name: 8, dtype: int64\n",
      "0    130\n",
      "Name: 9, dtype: int64\n",
      "0    165\n",
      "Name: 10, dtype: int64\n",
      "0    126\n",
      "Name: 11, dtype: int64\n",
      "0    104\n",
      "Name: 12, dtype: int64\n",
      "0    169\n",
      "Name: 13, dtype: int64\n",
      "0    119\n",
      "Name: 14, dtype: int64\n",
      "0    122\n",
      "Name: 15, dtype: int64\n",
      "0    176\n",
      "Name: 16, dtype: int64\n",
      "0    161\n",
      "Name: 17, dtype: int64\n",
      "0    133\n",
      "Name: 18, dtype: int64\n",
      "0    187\n",
      "Name: 19, dtype: int64\n",
      "CPU times: total: 15.6 ms\n",
      "Wall time: 11.6 ms\n"
     ]
    }
   ],
   "source": [
    "%%time \n",
    "for index, row in data_frame_shafeeq.iterrows():\n",
    "    print(row)\n",
    "    "
   ]
  },
  {
   "cell_type": "markdown",
   "id": "245bfa18-8a0e-494e-8206-8cdb699f3af7",
   "metadata": {},
   "source": [
    "why not use iteration row by row.... \n",
    "Looping through data in rows one by one is slow for big tables in Python.\n",
    "\r\n",
    "Better ways exist! Use built-in functions or apply your own function to the whole table at once. Less loops, cleaner code, faster analysis!"
   ]
  },
  {
   "cell_type": "markdown",
   "id": "a11b9967-1888-47f0-a28c-c0c90bb792fb",
   "metadata": {},
   "source": [
    "references \n",
    "1. https://www.tutorialspoint.com/generating-random-number-list-in-python\n",
    "2. https://www.geeksforgeeks.org/create-a-pandas-dataframe-from-lists/\n",
    "3. https://www.freecodecamp.org/news/how-to-iterate-over-rows-with-pandas-loop-through-a-dataframe/\n",
    "4. https://www.reddit.com/r/learnpython/comments/g6pl5y/why_is_iterating_over_rows_in_a_dataframe/\n",
    "5. https://www.youtube.com/watch?v=daefaLgNkw0"
   ]
  }
 ],
 "metadata": {
  "kernelspec": {
   "display_name": "Python 3 (ipykernel)",
   "language": "python",
   "name": "python3"
  },
  "language_info": {
   "codemirror_mode": {
    "name": "ipython",
    "version": 3
   },
   "file_extension": ".py",
   "mimetype": "text/x-python",
   "name": "python",
   "nbconvert_exporter": "python",
   "pygments_lexer": "ipython3",
   "version": "3.11.3"
  }
 },
 "nbformat": 4,
 "nbformat_minor": 5
}
