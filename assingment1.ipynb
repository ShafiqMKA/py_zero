{
 "cells": [
  {
   "cell_type": "code",
   "execution_count": 1,
   "id": "998a357b-fc69-47ae-b78a-76b7956142a8",
   "metadata": {},
   "outputs": [],
   "source": [
    "#data types \n"
   ]
  },
  {
   "cell_type": "code",
   "execution_count": 2,
   "id": "f8d72bcf-6d97-4d43-a9e3-babb778f9c1f",
   "metadata": {},
   "outputs": [],
   "source": [
    "#string "
   ]
  },
  {
   "cell_type": "code",
   "execution_count": 6,
   "id": "59c1654a-9c30-4522-ae46-35d0ab76b96e",
   "metadata": {},
   "outputs": [
    {
     "name": "stdout",
     "output_type": "stream",
     "text": [
      "<class 'str'>\n"
     ]
    }
   ],
   "source": [
    "sha = \"shafeeq\"\n",
    "print (type(sha))"
   ]
  },
  {
   "cell_type": "code",
   "execution_count": null,
   "id": "e8743183-a6b2-407f-b854-86fae9f01b22",
   "metadata": {},
   "outputs": [],
   "source": [
    "#numeric data type"
   ]
  },
  {
   "cell_type": "code",
   "execution_count": 8,
   "id": "d21142b0-1e94-4b9d-a3cd-4782e3ab845a",
   "metadata": {},
   "outputs": [
    {
     "name": "stdout",
     "output_type": "stream",
     "text": [
      "<class 'int'>\n"
     ]
    }
   ],
   "source": [
    "yes = 11\n",
    "print (type(yes))"
   ]
  },
  {
   "cell_type": "code",
   "execution_count": 9,
   "id": "66368036-f04c-455c-91e6-c451b530bbd0",
   "metadata": {},
   "outputs": [
    {
     "name": "stdout",
     "output_type": "stream",
     "text": [
      "<class 'float'>\n"
     ]
    }
   ],
   "source": [
    "yes1 = 11.7\n",
    "print(type(yes1))"
   ]
  },
  {
   "cell_type": "code",
   "execution_count": 10,
   "id": "baaf8377-7f72-4a23-ab8c-23d80bfaed49",
   "metadata": {},
   "outputs": [
    {
     "name": "stdout",
     "output_type": "stream",
     "text": [
      "<class 'complex'>\n"
     ]
    }
   ],
   "source": [
    "yes2 = 1+66J\n",
    "print (type(yes2))"
   ]
  },
  {
   "cell_type": "code",
   "execution_count": 11,
   "id": "566f3a7d-a18c-48d7-92a6-2b44e0ae1baa",
   "metadata": {},
   "outputs": [],
   "source": [
    "#list, tuple and range"
   ]
  },
  {
   "cell_type": "code",
   "execution_count": 13,
   "id": "e8c06060-61d2-45a5-94fc-36a33321f738",
   "metadata": {},
   "outputs": [
    {
     "name": "stdout",
     "output_type": "stream",
     "text": [
      "<class 'list'>\n"
     ]
    }
   ],
   "source": [
    "list1 = [1,4,5,5,\"sha\", \"yoss:\"]\n",
    "print(type(list1))"
   ]
  },
  {
   "cell_type": "code",
   "execution_count": 14,
   "id": "6ebf3855-1f06-4e2e-a57f-dc07fbd26a87",
   "metadata": {},
   "outputs": [
    {
     "name": "stdout",
     "output_type": "stream",
     "text": [
      "<class 'tuple'>\n"
     ]
    }
   ],
   "source": [
    "tup = (1,4,5,6,\"sha\")\n",
    "print (type(tup))"
   ]
  },
  {
   "cell_type": "code",
   "execution_count": 15,
   "id": "0f3a87c7-3aea-462c-806f-5acf55942a0c",
   "metadata": {},
   "outputs": [
    {
     "name": "stdout",
     "output_type": "stream",
     "text": [
      "<class 'range'>\n"
     ]
    }
   ],
   "source": [
    "sha3 = range (1,8)\n",
    "print(type(sha3))"
   ]
  },
  {
   "cell_type": "code",
   "execution_count": 16,
   "id": "719f56dc-437a-4ffc-bbfa-d226cafd25c1",
   "metadata": {},
   "outputs": [],
   "source": [
    "#mapping type __ dictionaries "
   ]
  },
  {
   "cell_type": "code",
   "execution_count": 17,
   "id": "cbbc1bb1-c0a3-4663-84ed-639b3fa0e485",
   "metadata": {},
   "outputs": [
    {
     "name": "stdout",
     "output_type": "stream",
     "text": [
      "<class 'dict'>\n"
     ]
    }
   ],
   "source": [
    "yoss = {\"mohammad\":\"shafiq:\"}\n",
    "print(type(yoss))"
   ]
  },
  {
   "cell_type": "code",
   "execution_count": 18,
   "id": "9ca0873d-c70b-415d-866c-daaf8589a673",
   "metadata": {},
   "outputs": [],
   "source": [
    "#set_type"
   ]
  },
  {
   "cell_type": "code",
   "execution_count": 20,
   "id": "e293bd5f-4519-473f-bcd4-890536acbc5e",
   "metadata": {},
   "outputs": [
    {
     "name": "stdout",
     "output_type": "stream",
     "text": [
      "<class 'set'>\n"
     ]
    }
   ],
   "source": [
    "set1 = {\"sha\", \"Manu\",\"rimsha\", \"Benson\", \"Yoss\"}\n",
    "print(type(set1))"
   ]
  },
  {
   "cell_type": "code",
   "execution_count": 20,
   "id": "237bbb8d-ceb4-415e-bfdf-179f5e413aa6",
   "metadata": {},
   "outputs": [
    {
     "name": "stdout",
     "output_type": "stream",
     "text": [
      "<class 'set'>\n"
     ]
    }
   ],
   "source": [
    "set1 = {\"sha\", \"Manu\",\"rimsha\", \"Benson\", \"Yoss\"}\n",
    "print(type(set1))"
   ]
  },
  {
   "cell_type": "code",
   "execution_count": 23,
   "id": "010ccfef-9c7c-41d3-b7a5-0302505a8146",
   "metadata": {},
   "outputs": [
    {
     "name": "stdout",
     "output_type": "stream",
     "text": [
      "<class 'frozenset'>\n"
     ]
    }
   ],
   "source": [
    "set2 = frozenset ({\"kam\", \"kar\", \"lo\"})\n",
    "print (type(set2))"
   ]
  },
  {
   "cell_type": "code",
   "execution_count": 24,
   "id": "a0169ee7-a914-49f4-9f4f-9354dcc54a55",
   "metadata": {},
   "outputs": [],
   "source": [
    "#Booleans "
   ]
  },
  {
   "cell_type": "code",
   "execution_count": 26,
   "id": "2eea5cfa-4fab-4ad2-bf3a-5dc101e61a20",
   "metadata": {},
   "outputs": [
    {
     "name": "stdout",
     "output_type": "stream",
     "text": [
      "<class 'bool'>\n"
     ]
    }
   ],
   "source": [
    "yes23= False\n",
    "print (type(yes))"
   ]
  },
  {
   "cell_type": "code",
   "execution_count": 27,
   "id": "70e16412-d501-4750-bc1f-4080f95981af",
   "metadata": {},
   "outputs": [
    {
     "name": "stdout",
     "output_type": "stream",
     "text": [
      "<class 'bool'>\n"
     ]
    }
   ],
   "source": [
    "uff = True \n",
    "print (type(uff))"
   ]
  },
  {
   "cell_type": "code",
   "execution_count": 35,
   "id": "390d9558-9547-4ebd-be23-48dae22c5748",
   "metadata": {},
   "outputs": [],
   "source": [
    "#binary "
   ]
  },
  {
   "cell_type": "code",
   "execution_count": 39,
   "id": "a54fb8c9-a702-4860-a732-a824c53070c5",
   "metadata": {},
   "outputs": [
    {
     "name": "stdout",
     "output_type": "stream",
     "text": [
      "<class 'bytes'>\n"
     ]
    }
   ],
   "source": [
    "g = b\"shafeeq\"\n",
    "print(type(g))"
   ]
  },
  {
   "cell_type": "code",
   "execution_count": 41,
   "id": "3991f56e-7b6d-40a6-8820-fe168e3eda99",
   "metadata": {},
   "outputs": [
    {
     "name": "stdout",
     "output_type": "stream",
     "text": [
      "<class 'bytearray'>\n"
     ]
    }
   ],
   "source": [
    "h = bytearray(6)\n",
    "print (type(h))\n",
    "             "
   ]
  },
  {
   "cell_type": "code",
   "execution_count": 42,
   "id": "127eb09b-f281-4dd2-befa-1cc894ca3723",
   "metadata": {},
   "outputs": [],
   "source": [
    "#memeory view "
   ]
  },
  {
   "cell_type": "code",
   "execution_count": 44,
   "id": "95763a8a-ec2a-464f-8e2e-41e56e89499a",
   "metadata": {},
   "outputs": [
    {
     "name": "stdout",
     "output_type": "stream",
     "text": [
      "<class 'memoryview'>\n"
     ]
    }
   ],
   "source": [
    "yoss = memoryview(bytearray(10))\n",
    "print (type(yoss))"
   ]
  },
  {
   "cell_type": "code",
   "execution_count": 45,
   "id": "969bd287-350d-4b57-bef2-352b1b9e724f",
   "metadata": {},
   "outputs": [],
   "source": [
    "###3 question \n"
   ]
  },
  {
   "cell_type": "code",
   "execution_count": 47,
   "id": "6f386479-afa9-4984-bebf-1ef185b55010",
   "metadata": {},
   "outputs": [
    {
     "name": "stdin",
     "output_type": "stream",
     "text": [
      "enter no of hours worked 2\n",
      "per hour rate 200\n"
     ]
    },
    {
     "name": "stdout",
     "output_type": "stream",
     "text": [
      "your pay is 320.0\n"
     ]
    }
   ],
   "source": [
    "hours = input (\"enter no of hours worked\")\n",
    "pay = input (\"per hour rate\")\n",
    "pay1= int(hours)*int(pay)\n",
    "tax = pay1*0.20\n",
    "total = pay1-tax\n",
    "print (\"your pay is\", total)\n"
   ]
  },
  {
   "cell_type": "code",
   "execution_count": null,
   "id": "c3c2a770-84c2-4db4-87c5-1d6a9670fe0e",
   "metadata": {},
   "outputs": [],
   "source": []
  }
 ],
 "metadata": {
  "kernelspec": {
   "display_name": "Python 3 (ipykernel)",
   "language": "python",
   "name": "python3"
  },
  "language_info": {
   "codemirror_mode": {
    "name": "ipython",
    "version": 3
   },
   "file_extension": ".py",
   "mimetype": "text/x-python",
   "name": "python",
   "nbconvert_exporter": "python",
   "pygments_lexer": "ipython3",
   "version": "3.11.3"
  }
 },
 "nbformat": 4,
 "nbformat_minor": 5
}
