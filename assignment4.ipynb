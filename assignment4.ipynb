{
 "cells": [
  {
   "cell_type": "code",
   "execution_count": 37,
   "id": "d4760741-59ad-4592-a413-8bca73e450c2",
   "metadata": {},
   "outputs": [
    {
     "name": "stdout",
     "output_type": "stream",
     "text": [
      "My_love: payri larki time:: sham ko  Place: kitchen mae ati ha\n"
     ]
    }
   ],
   "source": [
    "class shafeeq:\n",
    "    def __init__(who, why, when, where):\n",
    "        # data members (instance variables)\n",
    "        who.why = why\n",
    "        who.when = when\n",
    "        who.where = where\n",
    "\n",
    "    # Behavior (instance methods)\n",
    "    def show(who):\n",
    "        print('My_love:', who.why, 'time::', who.when, 'Place:', who.where)\n",
    "\n",
    "    # Behavior (instance methods)\n",
    "    def work(self):\n",
    "        print(who.why, 'working as a', who.where)\n",
    "    who = shafeeq(\"payri larki\",\"sham ko \", \"kitchen mae ati ha\")\n",
    "    who.show()"
   ]
  },
  {
   "cell_type": "code",
   "execution_count": null,
   "id": "ea3d18aa-593e-4c0c-8699-6d3a47a69dfb",
   "metadata": {},
   "outputs": [],
   "source": []
  },
  {
   "cell_type": "code",
   "execution_count": null,
   "id": "43778485-0d53-43dd-9c8e-8d58983ac8cf",
   "metadata": {},
   "outputs": [],
   "source": []
  },
  {
   "cell_type": "code",
   "execution_count": 36,
   "id": "67c33e4f-3ee1-45ac-80de-41d0c60a2d91",
   "metadata": {},
   "outputs": [
    {
     "ename": "IndentationError",
     "evalue": "unindent does not match any outer indentation level (<tokenize>, line 6)",
     "output_type": "error",
     "traceback": [
      "\u001b[1;36m  File \u001b[1;32m<tokenize>:6\u001b[1;36m\u001b[0m\n\u001b[1;33m    def __init__ (who, yes, no):\u001b[0m\n\u001b[1;37m    ^\u001b[0m\n\u001b[1;31mIndentationError\u001b[0m\u001b[1;31m:\u001b[0m unindent does not match any outer indentation level\n"
     ]
    }
   ],
   "source": [
    "###modification \n",
    "class Shafeeq12:\n",
    "    # class variables\n",
    "     i_am_crazy = 'my langauge is love'\n",
    "     # constructor\n",
    "    def __init__ (who, yes, no):\n",
    "        # instance variables\n",
    "        who.yes = yes\n",
    "        who.no = no\n",
    "        \n",
    "yoss = Shafeeq12(\"said shafeeq\", \"No not really\")\n",
    "# access instance variables\n",
    "print('shafeeq', yoss.yes, yoss.no)\n",
    "\n",
    "# access class variable\n",
    "print('my language is love:', Shafeeq12.i_am_crazy)\n",
    "\n",
    "# Modify instance variables\n",
    "yoss.yes = 'shafeeq'\n",
    "yoss.no = \"moon\"\n",
    "print('Student:', yoss.yes, yoss.no)\n",
    "\n",
    "# Modify class variables\n",
    "Shafeeq12.i_am_crazy = 'yes I am'\n",
    "print('my langauge is love:', Shafeeq12.i_am_crazy)"
   ]
  },
  {
   "cell_type": "code",
   "execution_count": 41,
   "id": "754c0f13-660e-47d1-bce3-a9b32a7139b5",
   "metadata": {},
   "outputs": [
    {
     "name": "stdout",
     "output_type": "stream",
     "text": [
      "Friend: Arbaz 24\n",
      "Friends relation: Buddies\n",
      "Best Friend: Yossma 23\n",
      "Friends relation: Buddies\n"
     ]
    }
   ],
   "source": [
    "class Friends:\n",
    "    # class variables\n",
    "    friend_relation = 'Buddies'\n",
    "\n",
    "    # constructor\n",
    "    def __init__(self, wow, age):\n",
    "        # instance variables\n",
    "        self.wow = wow\n",
    "        self.age = age\n",
    "\n",
    "f1 = Friends(\"Arbaz\", 24)\n",
    "# access instance variables\n",
    "print('Friend:', f1.wow, f1.age)\n",
    "\n",
    "# access class variable\n",
    "print('Friends relation:', Friends.friend_relation)\n",
    "\n",
    "# Modify instance variables\n",
    "f1.wow = 'Yossma'\n",
    "f1.age = 23\n",
    "print('Best Friend:', f1.wow, f1.age)\n",
    "\n",
    "# Modify class variables\n",
    "Friends.friend_relation = 'Buddies'\n",
    "print('Friends relation:', Friends.friend_relation)"
   ]
  },
  {
   "cell_type": "code",
   "execution_count": 53,
   "id": "8460c122-6981-421d-b462-8343aea6cab2",
   "metadata": {},
   "outputs": [
    {
     "name": "stdout",
     "output_type": "stream",
     "text": [
      "Friends: yossma 23 Buddies\n",
      "Friends: yossma 24 Soulmate\n"
     ]
    }
   ],
   "source": [
    "# class methods demo\n",
    "class Friends:\n",
    "    # class variable\n",
    "    friend_relation = 'Buddies'\n",
    "\n",
    "    # constructor\n",
    "    def __init__(self, wow, age):\n",
    "        # instance variables\n",
    "        self.wow = wow\n",
    "        self.age = age\n",
    "\n",
    "    # instance method\n",
    "    def show(self):\n",
    "        # access instance variables and class variables\n",
    "        print('Friends:', self.wow, self.age, Friends.friend_relation)\n",
    "\n",
    "    # instance method\n",
    "    def change_age(self, new_age):\n",
    "        # modify instance variable\n",
    "        self.age = new_age\n",
    "\n",
    "    # class method\n",
    "    @classmethod\n",
    "    def modify_friend_relation(cls, new_wow):\n",
    "        # modify class variable\n",
    "        cls.friend_relation = new_wow\n",
    "\n",
    "s1 = Friends(\"yossma\", 23)\n",
    "\n",
    "# call instance methods\n",
    "s1.show()\n",
    "s1.change_age(24)\n",
    "\n",
    "# call class method\n",
    "Friends.modify_friend_relation('Soulmate')\n",
    "# call instance methods\n",
    "s1.show()\n"
   ]
  },
  {
   "cell_type": "code",
   "execution_count": null,
   "id": "37b91702-a1b1-4810-bb99-10e8bb4c0398",
   "metadata": {},
   "outputs": [],
   "source": [
    "########## modify object properties"
   ]
  },
  {
   "cell_type": "code",
   "execution_count": 55,
   "id": "19df76d3-0575-47d6-8e33-ddd5f61c13e2",
   "metadata": {},
   "outputs": [
    {
     "name": "stdout",
     "output_type": "stream",
     "text": [
      "wow its colorfull its amazing indeed\n"
     ]
    }
   ],
   "source": [
    "class sun:\n",
    "    def __init__(self, wow, yeap):\n",
    "        self.wow = wow\n",
    "        self.yeap = yeap\n",
    "\n",
    "    def show(self):\n",
    "        print(\"wow\", self.wow, \"its amazing\", self.yeap)\n",
    "\n",
    "# creating object of the class\n",
    "obj = sun(\"see yeap\", \"indeed\")\n",
    "\n",
    "# Modifying Object Properties\n",
    "obj.wow = \"its yeapfull\"\n",
    "\n",
    "# calling the instance method using the object obj\n",
    "obj.show()\n",
    "# Output Fruit is strawberry and yeap is red"
   ]
  },
  {
   "cell_type": "code",
   "execution_count": null,
   "id": "a2373364-c32a-4ac5-bd15-e03d8c187ba8",
   "metadata": {},
   "outputs": [],
   "source": [
    "####delete object properties"
   ]
  },
  {
   "cell_type": "code",
   "execution_count": 58,
   "id": "43005b5a-254d-4159-bca2-21b441ff41c6",
   "metadata": {},
   "outputs": [
    {
     "ename": "AttributeError",
     "evalue": "'sun' object has no attribute 'wow'",
     "output_type": "error",
     "traceback": [
      "\u001b[1;31m---------------------------------------------------------------------------\u001b[0m",
      "\u001b[1;31mAttributeError\u001b[0m                            Traceback (most recent call last)",
      "Cell \u001b[1;32mIn[58], line 16\u001b[0m\n\u001b[0;32m     13\u001b[0m \u001b[38;5;28;01mdel\u001b[39;00m obj\u001b[38;5;241m.\u001b[39mwow\n\u001b[0;32m     15\u001b[0m \u001b[38;5;66;03m# Accessing object properties after deleting\u001b[39;00m\n\u001b[1;32m---> 16\u001b[0m \u001b[38;5;28mprint\u001b[39m(\u001b[43mobj\u001b[49m\u001b[38;5;241;43m.\u001b[39;49m\u001b[43mwow\u001b[49m)\n\u001b[0;32m     17\u001b[0m \u001b[38;5;66;03m# Output: AttributeError: 'Fruit' object has no attribute 'wow'\u001b[39;00m\n",
      "\u001b[1;31mAttributeError\u001b[0m: 'sun' object has no attribute 'wow'"
     ]
    }
   ],
   "source": [
    "class sun:\n",
    "    def __init__(self, wow, yeap):\n",
    "        self.wow = wow\n",
    "        self.yeap = yeap\n",
    "\n",
    "    def show(self):\n",
    "        print(\"Fruit is\", self.wow, \"and yeap is\", self.yeap)\n",
    "\n",
    "# creating object of the class\n",
    "obj = sun(\"see yeap\", \"indeed\")\n",
    "\n",
    "# Deleting Object Properties\n",
    "del obj.wow\n",
    "\n",
    "# Accessing object properties after deleting\n",
    "print(obj.wow)\n",
    "# Output: AttributeError: 'Fruit' object has no attribute 'wow'"
   ]
  },
  {
   "cell_type": "code",
   "execution_count": null,
   "id": "c0e08a83-ae26-4620-aeff-f7e1d931eae5",
   "metadata": {},
   "outputs": [],
   "source": []
  }
 ],
 "metadata": {
  "kernelspec": {
   "display_name": "Python 3 (ipykernel)",
   "language": "python",
   "name": "python3"
  },
  "language_info": {
   "codemirror_mode": {
    "name": "ipython",
    "version": 3
   },
   "file_extension": ".py",
   "mimetype": "text/x-python",
   "name": "python",
   "nbconvert_exporter": "python",
   "pygments_lexer": "ipython3",
   "version": "3.11.3"
  }
 },
 "nbformat": 4,
 "nbformat_minor": 5
}
