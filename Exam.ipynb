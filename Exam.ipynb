{
 "cells": [
  {
   "cell_type": "markdown",
   "id": "69bb9e02-b8bf-42f3-b18f-602fdb2f6191",
   "metadata": {},
   "source": [
    "**3. You are about to start a new python based project? What kind of structure would you use?**\n",
    "\n",
    "In general Python provides diverse options, the first step is to understand my project demands, or what the project is about and its complexity. As beginner on python, I would go with the flat style for my project layout rather than src. I will choose the dependencies requirements, then I will do packaging and modules, and then create a single script (.py or .ipynb). Then I will do the essential imports, and perform all the steps to carry my project.\n",
    "\n",
    "*Reference:*\n",
    "1.\t (https://medium.com/@joshuale/a-practical-guide-to-python-project-structure-and-packaging-90c7f7a04f95). \r\n",
    "2.\thttps://dev.to/codemouse92/dead-simple-python-project-structure-and-imports-38c6 \r\n",
    "3.\t(https://discuss.python.org/t/python-project-structure/36119/2).\r\n"
   ]
  },
  {
   "cell_type": "markdown",
   "id": "ee597620-798a-4c40-aad9-7993c15f6b2e",
   "metadata": {},
   "source": [
    "**5. What are complex systems? What is a network? How does the Game of life work?**\n",
    "A complex system is a system that has interacting components, and these components emerges as behaviors, and the behavior cannot be predict by studying single component. The example includes human brain, complex software and electronic system, organisms etc. \r\n",
    " Network is a collection of interacting entities or objects. These objects, called nodes, are linked together by connections, also known as edges. Networks can represent various relationships, such as physical connections, information flow, or social interactions.\r\n",
    "It's a simple set of rules applied to a grid of cells, but it can exhibit surprisingly complex behavior. The grid is made up of cells, which can be either alive (represented by black) or dead (represented by white). The evolution of the system is determined by four basic rules: A live cell with fewer than two live neighbors dies in the next generation (underpopulation). A live cell with two or three live neighbors lives on to the next generation. A dead cell with exactly three live neighbors becomes a live cell in the next generation (reproduction). All other dead cells (with zero, one, or four or more live neighbors) stay dead in the next generation. The Game of Life can create a variety of interesting patterns, some of which can grow or change shape over time. It's an example of a complex system that emerges from simple rules.\n",
    "*Reference:*\n",
    "1.\thttps://en.wikipedia.org/wiki/Complex_system#References\r\n",
    "2.\thttps://www.hasbro.com/common/instruct/Life,_the_game_of_%281991%29.pdf ; https://youtu.be/S-W0NX97DB0?si=XonyVeAFs__bScKd\r\n",
    "3.\thttps://en.wikipedia.org/wiki/Biological_network\r\n",
    "4.\tLecture one \r\n",
    " \r\n"
   ]
  },
  {
   "cell_type": "markdown",
   "id": "a622f311-e4c1-43e7-918f-3f4d948f34c1",
   "metadata": {},
   "source": [
    "**11. What is data? What are data stuctures? Why do we need structured data? What is the dataclass in python?**\n",
    "In common usage, data is a collection of discrete or continuous values that convey information, describing the quantity, quality, fact, statistics, other basic units of meaning, or simply sequences of symbols that may be further interpreted formally.\r\n",
    "Data is an information that describe the quantity, quality, fact, statistics, other basic units of meaning, or simply sequences of symbols that may be further interpreted formally in a particular format. \r\n",
    "Data structure is way to organize a data so that it can be accessed efficiently, a data can be integer, string, float or Boolean. The data structures in python are divided as mutable and immutable. Mutable consist of list, dictionaries and sets, while immutable is tuple which is a built in data structure. We need data structure to access the data effectively, for example we use list to store sequence of items where we can modify elements based on position. Tuples store fixed data, dictionaries used for storing and retrieving data based on unique keys, and Sets are useful for checking membership (if an item exists in the collection) or removing duplicates from a list. \r\n",
    "Dataclass is just used to store data (information) that flow between parts of a program or a system. Creating data classes in Python can be tedious, especially writing the __init__ method every time. The dataclasses module (available since Python 3.7) simplifies this process. With dataclasses, we can create data classes in just a few lines without manually writing methods like __init__. These classes automatically come with essential methods li__ __init__ to handle data initialization, making the code cleaner and less error-pron\n",
    "\n",
    "*Reference:*\n",
    "1.\thttps://www.simplilearn.com/what-is-data-article  \r\n",
    "2.\thttps://en.wikipedia.org/wiki/Data\r\n",
    "3.\thttps://www.dataquest.io/blog/data-structures-in-python/ . https://docs.python.org/3/tutorial/datastructures.html\r\n",
    "4.\thttps://www.dataquest.io/blog/how-to-use-python-data-classes/\r\n",
    "e. \r\n"
   ]
  },
  {
   "cell_type": "markdown",
   "id": "62e57a80-51bf-4716-96fe-7faa44028bf6",
   "metadata": {},
   "source": [
    "\r\n",
    "**16. DNA is text, and human language is also text. How is parsing of DNA different from parsing of human language? Which python module would you ue to pars DNA?**DNA parsing uses simpler alphabet as DNA uses a 4-letter alphabet (A, C, G, T) representing nucleotides. While Languages have a much larger alphabet with letters, punctuation, and special characters. Further, the DNA parsing involve the identification of patterns like genes or regulatory elements within sequence. While human language involves understanding the meaning conveyed by the words and sentence structure. For DNA parsing in python, we Import Biopython library for DNA parsing. But for human language we Import library for Natural Language Processing (NLTK). I will use Biopython library for DNA parsing, and then I will use SeqIO from BIO to find the specific patterns in the genes. Like mentioned in the bio python tutorials.\n",
    "\n",
    "*References:*\n",
    "1.\thttps://www.cs.cornell.edu/courses/cs2110/2010fa/assignments/a1/doc/cs2110/assignment1/DNAParser.html\r\n",
    "2.\thttps://opensource.com/article/20/8/intro-python-nltk\r\n",
    "3.\thttps://pieriantraining.com/parsing-data-in-python-a-tutorial-for-beginners/#:~:text=Parsing%20data%20in%20Python%20involves,analysis%2C%20and%20natural%20language%20processing.\r\n",
    "4.\thttps://biopython.org/DIST/docs/tutorial/Tutorial.\n",
    "5.\thttps://youtu.be/2SVPRm574ow?si=b2vAA7kCBXTWjGks\n",
    "   tml \r\n",
    "\r\n"
   ]
  },
  {
   "cell_type": "code",
   "execution_count": 1,
   "id": "8c8eca08-0965-40ff-98bf-d4b5de6d4e0b",
   "metadata": {},
   "outputs": [
    {
     "name": "stdout",
     "output_type": "stream",
     "text": [
      "Defaulting to user installation because normal site-packages is not writeable\n",
      "Requirement already satisfied: biopython in c:\\users\\hp\\appdata\\roaming\\python\\python311\\site-packages (1.83)\n",
      "Requirement already satisfied: numpy in c:\\users\\hp\\appdata\\roaming\\python\\python311\\site-packages (from biopython) (1.25.0)\n",
      "Note: you may need to restart the kernel to use updated packages.\n"
     ]
    },
    {
     "name": "stderr",
     "output_type": "stream",
     "text": [
      "DEPRECATION: Loading egg at c:\\program files\\python311\\lib\\site-packages\\vboxapi-1.0-py3.11.egg is deprecated. pip 24.3 will enforce this behaviour change. A possible replacement is to use pip for package installation.. Discussion can be found at https://github.com/pypa/pip/issues/12330\n"
     ]
    }
   ],
   "source": [
    "#Question16\n",
    "pip install biopython"
   ]
  },
  {
   "cell_type": "code",
   "execution_count": 24,
   "id": "4d41e802-10c6-4efc-8fec-a09be40b6173",
   "metadata": {},
   "outputs": [],
   "source": [
    "from Bio import SeqIO\n",
    "record = SeqIO.read(\"out1.fna\", \"fasta\")\n"
   ]
  },
  {
   "cell_type": "code",
   "execution_count": 25,
   "id": "a54c0cf7-4df1-46ba-9323-ade0118150fa",
   "metadata": {},
   "outputs": [],
   "source": [
    "dna_sequence = str(record.seq)\n",
    "mydna = str(record.seq)\n"
   ]
  },
  {
   "cell_type": "code",
   "execution_count": 27,
   "id": "c39cc89f-1787-419d-909d-27b315b7df1a",
   "metadata": {},
   "outputs": [
    {
     "name": "stdout",
     "output_type": "stream",
     "text": [
      "No genes found with the specified pattern\n"
     ]
    }
   ],
   "source": [
    "#function to find a specific gene pattern \n",
    "def find_gene(mydna, gene_pattern):\n",
    "  start = 0\n",
    "  genes = []\n",
    "  while True:\n",
    "    # Search for the gene pattern starting from the current position\n",
    "    index = mydna.find(gene_pattern, start)\n",
    "    if index == -1:\n",
    "      break  # No more occurrences found\n",
    "    genes.append((start, index + len(gene_pattern)))  # Record gene location\n",
    "    start = index + 1  # Move search start position \n",
    "gene_pattern = \"AATCTTTTAATCTTTAAACGTGTT\"\n",
    "genes = find_gene(mydna, gene_pattern)\n",
    "# Print the locations of the found genes\n",
    "if genes:\n",
    "  for start, end in genes:\n",
    "    print(f\"Gene found between positions {start} and {end}\")\n",
    "else:\n",
    "  print(\"No genes found with the specified pattern\") \n"
   ]
  },
  {
   "cell_type": "markdown",
   "id": "4a6f49e4-29f5-4113-8667-aaa575fce391",
   "metadata": {},
   "source": [
    "**18. What is the difference between structured, unstructured and semi-structured data. What kind of data do you think is the most common in this world?**\n",
    "Structured data is stored in a predefined format and is highly specific; whereas unstructured data is a collection of many varied data types that are stored in their native formats; while semi-structured data does not follow the tabular data structure models associated with relational databases or other data table forms. Each type has its own pros and cons, structure data less processing and easier to manage but limited usability due pre-defined structure. Unstructured data has variety of native formats facilitates a greater number of use cases and applications but the greater number of formats makes it equally challenging to analyze and leverage unstructured data. While Semi structure use information that does not reside in a relational database but that has some organizational properties that make it easier to analyze. In my opinion, the world so messy so the unstructured data must be in common because information come in many forms, not just neat rows and columns. \n",
    "\n",
    "*Reference:*\n",
    "1.\thttps://www.geeksforgeeks.org/difference-between-structured-semi-structured-and-unstructured-data/\r\n",
    "2.\thttps://k21academy.com/microsoft-azure/dp-900/structured-data-vs-unstructured-data-vs-semi-structured-data/#:~:text=Structured%20data%20is%20stored%20in,databases%20or%20other%20data%20table\r\n"
   ]
  },
  {
   "cell_type": "markdown",
   "id": "2fd0635f-393c-440c-be47-52dada2da870",
   "metadata": {},
   "source": [
    "**21. What is the difference between t-statistics, and p value? What is r-squared?**\n",
    "The t-value is a way to quantify the difference between the population means. While P-value is a measure of the probability of an observation lying at extreme t-values. Larger t-value indicates high difference between means, but it does not tell how significance is the difference. And lower p-value suggests the observed difference between the means is less likely due to chance and may be statistically significant. R-squared measure the proportion of the variance for a dependent variable that’s predictable from the independent variable(s).\n",
    "\n",
    "*References*\r\n",
    "\r\n",
    "1.\thttps://analyticsindiamag.com/understand-the-significance-of-t-test-and-p-value-using-python/#:~:text=The%20t%2Dstatistic%20is%20a,value%20also%20implies%20%E2%80%9Csignificance%E2%80%9D.\r\n",
    "2.\thttps://analyticsindiamag.com/understand-the-significance-of-t-test-and-p-value-using-python/#:~:text=The%20t%2Dstatistic%20is%20a,value%20also%20implies%20%E2%80%9Csignificance%E2%80%9D.\r\n",
    "3.\t https://en.wikipedia.org/wiki/Coefficient_of_determination\r\n",
    "4.\thttps://www.investopedia.com/terms/r/r-squared.asp\r\n"
   ]
  },
  {
   "cell_type": "markdown",
   "id": "b7933515-2cd5-4c48-941e-360751091c24",
   "metadata": {},
   "source": [
    "**31. What is a simplex? What is a PCA? What does it mean to perform a dimensionality reduction?**\r\n",
    "Simplex method, standard technique in linear programming for solving an optimization problem, typically one involving a function and several constraints expressed as inequalities. The inequalities define a polygonal region, and the solution is typically at one of the vertices. The simplex method is a systematic procedure for testing the vertices as possible solutions.\r\n",
    "Principal component analysis, or PCA, is a statistical procedure that allows to summarize the information by means of a smaller set of “summary indices” that can be more easily visualized and analyzed. \r\n",
    "Dimensionality reduction means to reduce the dimensionality of large data sets, by transforming a large set of variables into a smaller one that still contains most of the information in the large set.*References* \r\n",
    "\r\n",
    "\r\n",
    "\r\n",
    "1.\thttps://www.britannica.com/topic/simplex-method\r\n",
    "2.\thttps://www.sartorius.com/en/knowledge/science-snippets/what-is-principal-component-analysis-pca-and-how-it-is-used-507186\r\n",
    "3.\thttps://builtin.com/data-science/step-step-explanation-principal-component-analysis\r\n"
   ]
  },
  {
   "cell_type": "markdown",
   "id": "a600ffa3-6085-4df5-8812-868e23594cdf",
   "metadata": {},
   "source": [
    "**32. Why should I not remove the NA values? What is the difference between NAs and NANs.?**\n",
    "\n",
    "NA is used to represent missing data of any data type like numeric, text etc. without pointing a particular data type. NA in a code indicates a missing value in a custom way, especially when dealing with non-numerical data. There's no built-in NA data type in Python.\r\n",
    "NaN is a special floating-point value in Python that represents \"Not a Number.\" It's a built-in data type specifically used to indicate missing numerical data. Libraries like NumPy and Pandas recognize NaN and provide functions to handle it appropriately in calculations (e.g., functions that ignore NaN during operations)\n",
    "\n",
    "*References*.\r\n",
    "1.\thttps://www.projectpro.io/recipes/what-is-difference-between-na-and-nan-r\r\n",
    "2.\thttps://www.r-bloggers.com/2012/08/difference-between-na-and-nan-in-r/\r\n",
    "3.\thttps://stackoverflow.com/questions/15496361/what-is-the-difference-between-nan-and-inf-and-null-and-na-in-r\r\n"
   ]
  },
  {
   "cell_type": "markdown",
   "id": "1967f8d3-d609-49f3-8fd5-072adf05b46d",
   "metadata": {},
   "source": [
    "**34. Demonstrate: Create two matrices, multiply them, transverse them, transpose them. What is orthogonality of a matrix?**\n",
    "\n",
    "Matrix is a data structure where numbers are arranged in rows and columns which arise a two-dimensional data. A matix in python is formed by making a list within a list. But NUMPY package in python allows to create N dimensional arrays objects. Orthogonality is refer to the matrix whose transpose is equal to inverse of the matrix. \n",
    "\n",
    "*References*\n",
    "1. https://www.askpython.com/python/python-matrix-tutorial\n",
    "2. https://wiki.python.org/moin/BeginnersGuide\n",
    "3. https://numpy.org/doc/stable/reference/generated/numpy.diagonal.html\n",
    "4. https://www.cuemath.com/algebra/orthogonal-matrix/\n",
    "5. https://www.geeksforgeeks.org/check-whether-given-matrix-orthogonal-not/\n"
   ]
  },
  {
   "cell_type": "code",
   "execution_count": 51,
   "id": "51e3cf35-3972-4813-bfb5-fe1cd7029bce",
   "metadata": {},
   "outputs": [
    {
     "name": "stdout",
     "output_type": "stream",
     "text": [
      "[[1, 5, 7], [6, 0, 5]]\n",
      "[6 7 8]\n",
      "<class 'numpy.ndarray'>\n",
      "MatrixA:\n",
      " [[11  9]\n",
      " [ 9  3]]\n",
      "\n",
      "MatrixB:\n",
      " [[10 20]\n",
      " [30 40]]\n",
      "product of matrices [[ 36 -12]\n",
      " [ -1   2]]\n",
      "scalar product:\n",
      " [[ 360 -120]\n",
      " [ -10   20]]\n",
      "Original Matrix C:\n",
      "\n",
      "[[ 36 -12]\n",
      " [ -1   2]]\n",
      "\n",
      "Dimensions of the original Matrix C:  (2, 2)\n",
      "\n",
      "Transpose of Matrix C:\n",
      " \n",
      "[[ 36  -1]\n",
      " [-12   2]]\n",
      "\n",
      "Dimensions of the Matrix A after performing the Transpose Operation:   (2, 2)\n",
      "diagonal is [36  2]\n",
      "ort [[1296   12]\n",
      " [  12    4]]\n"
     ]
    }
   ],
   "source": [
    "#creating Matrices \n",
    "matrix1 = [[1,5,7],\n",
    "           [6,0,5]]\n",
    "print(matrix1)\n",
    "## it has two row and three columns \n",
    "##now creating multideimensional arrays using numpy\n",
    "import numpy as np\n",
    "one = np.array([6,7,8])\n",
    "print (one)\n",
    "print(type(one))\n",
    "\n",
    "##creating matrix using martix function in numpy\n",
    "matriz_1 = np.matrix([[11, 9], [9, 3]])  \n",
    "print('MatrixA:\\n', matriz_1)\n",
    "\n",
    "matrizB = np.matrix('[10,20;30,40]', dtype=np.int32)  # Setting the data-type to int\n",
    "print('\\nMatrixB:\\n', matrizB)\n",
    "####### multiply two matrices, and the scaler product of the result\n",
    "A = np.array([[3, 6, 7], [5, -3, 0]])\n",
    "B = np.array([[1, 1], [2, 1], [3, -3]])\n",
    "C = A.dot(B)\n",
    "print(\"product of matrices\",C)\n",
    "print(\"scalar product:\\n\", 10*C)\n",
    "######## Transpose of a matrix \n",
    "print(\"Original Matrix C:\\n\")\n",
    "print(C)\n",
    "print('\\nDimensions of the original Matrix C: ',C.shape)\n",
    "print(\"\\nTranspose of Matrix C:\\n \")\n",
    "res = C.T\n",
    "print(res)\n",
    "print('\\nDimensions of the Matrix A after performing the Transpose Operation:  ',res.shape)\n",
    " ###Transverse of the matrix \n",
    "l = C.diagonal(0,0,1)\n",
    "print(\"diagonal is\",l)\n",
    "\n",
    "##orthogonality \n",
    "ortho = C*res \n",
    "print (\"ort\", ortho)\n",
    "\n"
   ]
  },
  {
   "cell_type": "code",
   "execution_count": null,
   "id": "5aeba204-96d5-4b07-ba75-a0e087664ea0",
   "metadata": {},
   "outputs": [],
   "source": []
  }
 ],
 "metadata": {
  "kernelspec": {
   "display_name": "Python 3 (ipykernel)",
   "language": "python",
   "name": "python3"
  },
  "language_info": {
   "codemirror_mode": {
    "name": "ipython",
    "version": 3
   },
   "file_extension": ".py",
   "mimetype": "text/x-python",
   "name": "python",
   "nbconvert_exporter": "python",
   "pygments_lexer": "ipython3",
   "version": "3.11.3"
  }
 },
 "nbformat": 4,
 "nbformat_minor": 5
}
